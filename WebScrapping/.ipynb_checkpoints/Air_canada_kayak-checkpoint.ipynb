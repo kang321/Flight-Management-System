{
 "cells": [
  {
   "cell_type": "code",
   "execution_count": 1,
   "id": "ca994f5b",
   "metadata": {},
   "outputs": [],
   "source": [
    "# importing the lib\n",
    "from selenium import webdriver\n",
    "from selenium.webdriver.common.keys import Keys\n",
    "from bs4 import BeautifulSoup\n",
    "import pandas as pd\n",
    "import numpy\n",
    "import time\n",
    "import sys\n",
    "from selenium.webdriver.chrome.service import service\n",
    "from webdriver_manager.chrome import ChromeDriverManager\n",
    "from selenium.webdriver.common.by import By\n",
    "import re\n",
    "import numpy as np"
   ]
  },
  {
   "cell_type": "code",
   "execution_count": 2,
   "id": "e76e550a",
   "metadata": {},
   "outputs": [],
   "source": [
    "def kayak(doj,souce_airport,destination_airport):\n",
    "    url=\"https://www.ca.kayak.com/flights/\" +str(source_airport) +\"-\" +str(destination_airport)+ \"/\"+str(doj)+ \"?sort=bestflight_a\"\n",
    "    driver = webdriver.Chrome(ChromeDriverManager().install())\n",
    "    driver.maximize_window()\n",
    "    driver.get(url)\n",
    "    time.sleep(25)\n",
    "    def click_more():\n",
    "    \n",
    "        for val in range(0,50):\n",
    "            try:\n",
    "                driver.find_element_by_xpath(\"//a[@class='moreButton']\").click()\n",
    "                time.sleep(5)\n",
    "                val = val +1\n",
    "\n",
    "            except:\n",
    "                pass\n",
    "    click_more()\n",
    "    \n",
    "    # depart-time base-time\n",
    "    departure_time=[]\n",
    "    departure_time= driver.find_elements_by_xpath(\"//ol[@class='flights']//span[@class='depart-time base-time']\")\n",
    "\n",
    "    arrival_time=[]\n",
    "    arrival_time= driver.find_elements_by_xpath(\"//ol[@class='flights']//span[@class='arrival-time base-time']\")\n",
    "\n",
    "    duration =[]\n",
    "    duration  = driver.find_elements_by_xpath(\"//ol[@class='flights']//div[@class='section duration allow-multi-modal-icons']//div[@class='top']\")\n",
    "\n",
    "\n",
    "    no_stop = []\n",
    "    no_stop  = driver.find_elements_by_xpath(\"//ol[@class='flights']//div[@class='section stops']//div[@class='top']\")\n",
    "\n",
    "    price =[]\n",
    "    price = driver.find_elements_by_xpath(\"//div[@class = 'booking']\")\n",
    "\n",
    "    airlines = []\n",
    "    airlines = driver.find_elements_by_xpath(\"//span[@class = 'codeshares-airline-names']\")\n",
    "\n",
    "    # departure_time = driver.find_elements_by_xpath(\"//div[@class='itinerary-depart-time depart-time']\")\n",
    "\n",
    "    \n",
    "    \n",
    "    \n",
    "    price_list=[]\n",
    "    stops=[]\n",
    "    for i in range(len(departure_time)):\n",
    "        departure_time[i]= departure_time[i].get_attribute('innerHTML')\n",
    "        arrival_time[i] = arrival_time[i].get_attribute('innerHTML')\n",
    "        duration[i] = duration[i].get_attribute('innerHTML')\n",
    "        no_stop[i] = no_stop[i].get_attribute('innerHTML')\n",
    "        l = re.findall(\"(direct|1|2|3|4|5)\",no_stop[i])[0]\n",
    "        stops.append(l)\n",
    "        price[i] = price[i].get_attribute('innerHTML')\n",
    "\n",
    "#         airlines[i] = airlines[i].get_attribute('innerHTML')\n",
    "        b = re.findall(\"nbsp\\;((\\d\\d\\d)|(\\d.\\d\\d\\d)|(\\d\\d.\\d\\d\\d))\",price[i])[0][0]\n",
    "        price_list.append(b)\n",
    "    \n",
    "    for k in range(len(airlines)):\n",
    "        airlines[k] = airlines[k].get_attribute('innerHTML')\n",
    "        \n",
    "    # Creating data frames\n",
    "    departure = len(departure_time)*[str(source_airport)]\n",
    "    arrival = len(departure_time)*[str(destination_airport)]\n",
    "    # a = pd.DataFrame(departure_time,arrival_time,price_list)\n",
    "    doj1 = len(departure_time)*[doj]\n",
    "    df  = pd.DataFrame(doj1,columns=[\"Date of journey\"])\n",
    "    df[\"Source\"] = departure    \n",
    "    df[\"Destination\"] = arrival\n",
    "    df[\"Departure_time\"] = departure_time\n",
    "    df[\"Arrival_time\"] = arrival_time\n",
    "    df[\"Duration\"] = duration\n",
    "    df[\"Stops\"] = stops\n",
    "    df[\"CAD $\"]= price_list\n",
    "    df[\"Airlines\"] = airlines\n",
    "#     df[\"Stops\"]=df[\"Stops\"].astype(str).str.replace(\"\\n\",\"\")\n",
    "    df[\"CAD $\"]=df[\"CAD $\"].astype(str).str.replace(\",\",\"\")\n",
    "    df[\"CAD $\"] = pd.to_numeric(df['CAD $'])\n",
    "#     df[\"Stops\"]=df[\"Stops\"].astype(str).str.replace(\"stops\",\"\")\n",
    "#     df[\"Stops\"]=df[\"Stops\"].astype(str).str.replace(\"stop\",\"\")\n",
    "    df[\"Duration\"]=df[\"Duration\"].astype(str).str.replace(\"\\n\",\"\")\n",
    "    df = df.drop(df[(df.Stops =='3') | (df.Airlines == 'Multiple Airlines')].index)\n",
    "    df= df.drop_duplicates()\n",
    "    df = df.sort_values(by='CAD $')\n",
    "    df = df.reset_index()\n",
    "    df.index = df.index +1\n",
    "    df.pop(\"index\")\n",
    "    driver.close()\n",
    "    return df\n",
    "    \n",
    "    "
   ]
  },
  {
   "cell_type": "code",
   "execution_count": 3,
   "id": "55f3fe96",
   "metadata": {
    "scrolled": false
   },
   "outputs": [
    {
     "name": "stderr",
     "output_type": "stream",
     "text": [
      "\n",
      "\n",
      "====== WebDriver manager ======\n"
     ]
    },
    {
     "name": "stdout",
     "output_type": "stream",
     "text": [
      "DEL\n",
      "YYZ\n"
     ]
    },
    {
     "name": "stderr",
     "output_type": "stream",
     "text": [
      "Could not get version for google-chrome with the command:  powershell \"$ErrorActionPreference='silentlycontinue' ; (Get-Item -Path \"$env:PROGRAMFILES\\Google\\Chrome\\Application\\chrome.exe\").VersionInfo.FileVersion ; if (-not $? -or $? -match $error) { (Get-Item -Path \"$env:PROGRAMFILES(x86)\\Google\\Chrome\\Application\\chrome.exe\").VersionInfo.FileVersion } if (-not $? -or $? -match $error) { (Get-Item -Path \"$env:LOCALAPPDATA\\Google\\Chrome\\Application\\chrome.exe\").VersionInfo.FileVersion } if (-not $? -or $? -match $error) { reg query \"HKCU\\SOFTWARE\\Google\\Chrome\\BLBeacon\" /v version } if (-not $? -or $? -match $error) { reg query \"HKLM\\SOFTWARE\\Wow6432Node\\Microsoft\\Windows\\CurrentVersion\\Uninstall\\Google Chrome\" /v version }\"\n",
      "Current google-chrome version is UNKNOWN\n",
      "Get LATEST chromedriver version for UNKNOWN google-chrome\n",
      "Trying to download new driver from https://chromedriver.storage.googleapis.com/100.0.4896.60/chromedriver_win32.zip\n",
      "Driver has been saved in cache [C:\\Users\\HETSHAH\\.wdm\\drivers\\chromedriver\\win32\\100.0.4896.60]\n",
      "C:\\Users\\HETSHAH\\AppData\\Local\\Temp/ipykernel_23596/3903031303.py:3: DeprecationWarning: executable_path has been deprecated, please pass in a Service object\n",
      "  driver = webdriver.Chrome(ChromeDriverManager().install())\n"
     ]
    },
    {
     "ename": "SessionNotCreatedException",
     "evalue": "Message: session not created: This version of ChromeDriver only supports Chrome version 100\nCurrent browser version is 99.0.4844.84 with binary path C:\\Program Files (x86)\\Google\\Chrome\\Application\\chrome.exe\nStacktrace:\nBacktrace:\n\tOrdinal0 [0x00B37413+2389011]\n\tOrdinal0 [0x00AC9F61+1941345]\n\tOrdinal0 [0x009BC658+837208]\n\tOrdinal0 [0x009DC773+968563]\n\tOrdinal0 [0x009D837A+951162]\n\tOrdinal0 [0x009D5C51+941137]\n\tOrdinal0 [0x00A08C80+1150080]\n\tOrdinal0 [0x00A088DA+1149146]\n\tOrdinal0 [0x00A03F66+1130342]\n\tOrdinal0 [0x009DE546+976198]\n\tOrdinal0 [0x009DF456+980054]\n\tGetHandleVerifier [0x00CE9632+1727522]\n\tGetHandleVerifier [0x00D9BA4D+2457661]\n\tGetHandleVerifier [0x00BCEB81+569713]\n\tGetHandleVerifier [0x00BCDD76+566118]\n\tOrdinal0 [0x00AD0B2B+1968939]\n\tOrdinal0 [0x00AD5988+1989000]\n\tOrdinal0 [0x00AD5A75+1989237]\n\tOrdinal0 [0x00ADECB1+2026673]\n\tBaseThreadInitThunk [0x771BFA29+25]\n\tRtlGetAppContainerNamedObjectPath [0x77807A7E+286]\n\tRtlGetAppContainerNamedObjectPath [0x77807A4E+238]\n",
     "output_type": "error",
     "traceback": [
      "\u001b[1;31m---------------------------------------------------------------------------\u001b[0m",
      "\u001b[1;31mSessionNotCreatedException\u001b[0m                Traceback (most recent call last)",
      "\u001b[1;32m~\\AppData\\Local\\Temp/ipykernel_23596/3121291253.py\u001b[0m in \u001b[0;36m<module>\u001b[1;34m\u001b[0m\n\u001b[0;32m     16\u001b[0m         \u001b[0mprint\u001b[0m\u001b[1;33m(\u001b[0m\u001b[0mdestination_airport\u001b[0m\u001b[1;33m)\u001b[0m\u001b[1;33m\u001b[0m\u001b[1;33m\u001b[0m\u001b[0m\n\u001b[0;32m     17\u001b[0m         \u001b[0mdoj\u001b[0m \u001b[1;33m=\u001b[0m\u001b[1;34m'2022-05-30'\u001b[0m\u001b[1;33m\u001b[0m\u001b[1;33m\u001b[0m\u001b[0m\n\u001b[1;32m---> 18\u001b[1;33m         \u001b[0mdf\u001b[0m \u001b[1;33m=\u001b[0m \u001b[0mkayak\u001b[0m\u001b[1;33m(\u001b[0m\u001b[0mdoj\u001b[0m\u001b[1;33m,\u001b[0m\u001b[0msource_airport\u001b[0m\u001b[1;33m,\u001b[0m\u001b[0mdestination_airport\u001b[0m\u001b[1;33m)\u001b[0m\u001b[1;33m\u001b[0m\u001b[1;33m\u001b[0m\u001b[0m\n\u001b[0m\u001b[0;32m     19\u001b[0m \u001b[1;31m#         print(\"Departure length\",len(departure_time))\u001b[0m\u001b[1;33m\u001b[0m\u001b[1;33m\u001b[0m\u001b[0m\n\u001b[0;32m     20\u001b[0m \u001b[1;31m#         print(df1.describe())\u001b[0m\u001b[1;33m\u001b[0m\u001b[1;33m\u001b[0m\u001b[0m\n",
      "\u001b[1;32m~\\AppData\\Local\\Temp/ipykernel_23596/3903031303.py\u001b[0m in \u001b[0;36mkayak\u001b[1;34m(doj, souce_airport, destination_airport)\u001b[0m\n\u001b[0;32m      1\u001b[0m \u001b[1;32mdef\u001b[0m \u001b[0mkayak\u001b[0m\u001b[1;33m(\u001b[0m\u001b[0mdoj\u001b[0m\u001b[1;33m,\u001b[0m\u001b[0msouce_airport\u001b[0m\u001b[1;33m,\u001b[0m\u001b[0mdestination_airport\u001b[0m\u001b[1;33m)\u001b[0m\u001b[1;33m:\u001b[0m\u001b[1;33m\u001b[0m\u001b[1;33m\u001b[0m\u001b[0m\n\u001b[0;32m      2\u001b[0m     \u001b[0murl\u001b[0m\u001b[1;33m=\u001b[0m\u001b[1;34m\"https://www.ca.kayak.com/flights/\"\u001b[0m \u001b[1;33m+\u001b[0m\u001b[0mstr\u001b[0m\u001b[1;33m(\u001b[0m\u001b[0msource_airport\u001b[0m\u001b[1;33m)\u001b[0m \u001b[1;33m+\u001b[0m\u001b[1;34m\"-\"\u001b[0m \u001b[1;33m+\u001b[0m\u001b[0mstr\u001b[0m\u001b[1;33m(\u001b[0m\u001b[0mdestination_airport\u001b[0m\u001b[1;33m)\u001b[0m\u001b[1;33m+\u001b[0m \u001b[1;34m\"/\"\u001b[0m\u001b[1;33m+\u001b[0m\u001b[0mstr\u001b[0m\u001b[1;33m(\u001b[0m\u001b[0mdoj\u001b[0m\u001b[1;33m)\u001b[0m\u001b[1;33m+\u001b[0m \u001b[1;34m\"?sort=bestflight_a\"\u001b[0m\u001b[1;33m\u001b[0m\u001b[1;33m\u001b[0m\u001b[0m\n\u001b[1;32m----> 3\u001b[1;33m     \u001b[0mdriver\u001b[0m \u001b[1;33m=\u001b[0m \u001b[0mwebdriver\u001b[0m\u001b[1;33m.\u001b[0m\u001b[0mChrome\u001b[0m\u001b[1;33m(\u001b[0m\u001b[0mChromeDriverManager\u001b[0m\u001b[1;33m(\u001b[0m\u001b[1;33m)\u001b[0m\u001b[1;33m.\u001b[0m\u001b[0minstall\u001b[0m\u001b[1;33m(\u001b[0m\u001b[1;33m)\u001b[0m\u001b[1;33m)\u001b[0m\u001b[1;33m\u001b[0m\u001b[1;33m\u001b[0m\u001b[0m\n\u001b[0m\u001b[0;32m      4\u001b[0m     \u001b[0mdriver\u001b[0m\u001b[1;33m.\u001b[0m\u001b[0mmaximize_window\u001b[0m\u001b[1;33m(\u001b[0m\u001b[1;33m)\u001b[0m\u001b[1;33m\u001b[0m\u001b[1;33m\u001b[0m\u001b[0m\n\u001b[0;32m      5\u001b[0m     \u001b[0mdriver\u001b[0m\u001b[1;33m.\u001b[0m\u001b[0mget\u001b[0m\u001b[1;33m(\u001b[0m\u001b[0murl\u001b[0m\u001b[1;33m)\u001b[0m\u001b[1;33m\u001b[0m\u001b[1;33m\u001b[0m\u001b[0m\n",
      "\u001b[1;32m~\\AppData\\Local\\Programs\\Python\\Python310\\lib\\site-packages\\selenium\\webdriver\\chrome\\webdriver.py\u001b[0m in \u001b[0;36m__init__\u001b[1;34m(self, executable_path, port, options, service_args, desired_capabilities, service_log_path, chrome_options, service, keep_alive)\u001b[0m\n\u001b[0;32m     68\u001b[0m             \u001b[0mservice\u001b[0m \u001b[1;33m=\u001b[0m \u001b[0mService\u001b[0m\u001b[1;33m(\u001b[0m\u001b[0mexecutable_path\u001b[0m\u001b[1;33m,\u001b[0m \u001b[0mport\u001b[0m\u001b[1;33m,\u001b[0m \u001b[0mservice_args\u001b[0m\u001b[1;33m,\u001b[0m \u001b[0mservice_log_path\u001b[0m\u001b[1;33m)\u001b[0m\u001b[1;33m\u001b[0m\u001b[1;33m\u001b[0m\u001b[0m\n\u001b[0;32m     69\u001b[0m \u001b[1;33m\u001b[0m\u001b[0m\n\u001b[1;32m---> 70\u001b[1;33m         super(WebDriver, self).__init__(DesiredCapabilities.CHROME['browserName'], \"goog\",\n\u001b[0m\u001b[0;32m     71\u001b[0m                                         \u001b[0mport\u001b[0m\u001b[1;33m,\u001b[0m \u001b[0moptions\u001b[0m\u001b[1;33m,\u001b[0m\u001b[1;33m\u001b[0m\u001b[1;33m\u001b[0m\u001b[0m\n\u001b[0;32m     72\u001b[0m                                         \u001b[0mservice_args\u001b[0m\u001b[1;33m,\u001b[0m \u001b[0mdesired_capabilities\u001b[0m\u001b[1;33m,\u001b[0m\u001b[1;33m\u001b[0m\u001b[1;33m\u001b[0m\u001b[0m\n",
      "\u001b[1;32m~\\AppData\\Local\\Programs\\Python\\Python310\\lib\\site-packages\\selenium\\webdriver\\chromium\\webdriver.py\u001b[0m in \u001b[0;36m__init__\u001b[1;34m(self, browser_name, vendor_prefix, port, options, service_args, desired_capabilities, service_log_path, service, keep_alive)\u001b[0m\n\u001b[0;32m     91\u001b[0m \u001b[1;33m\u001b[0m\u001b[0m\n\u001b[0;32m     92\u001b[0m         \u001b[1;32mtry\u001b[0m\u001b[1;33m:\u001b[0m\u001b[1;33m\u001b[0m\u001b[1;33m\u001b[0m\u001b[0m\n\u001b[1;32m---> 93\u001b[1;33m             RemoteWebDriver.__init__(\n\u001b[0m\u001b[0;32m     94\u001b[0m                 \u001b[0mself\u001b[0m\u001b[1;33m,\u001b[0m\u001b[1;33m\u001b[0m\u001b[1;33m\u001b[0m\u001b[0m\n\u001b[0;32m     95\u001b[0m                 command_executor=ChromiumRemoteConnection(\n",
      "\u001b[1;32m~\\AppData\\Local\\Programs\\Python\\Python310\\lib\\site-packages\\selenium\\webdriver\\remote\\webdriver.py\u001b[0m in \u001b[0;36m__init__\u001b[1;34m(self, command_executor, desired_capabilities, browser_profile, proxy, keep_alive, file_detector, options)\u001b[0m\n\u001b[0;32m    267\u001b[0m         \u001b[0mself\u001b[0m\u001b[1;33m.\u001b[0m\u001b[0mfile_detector\u001b[0m \u001b[1;33m=\u001b[0m \u001b[0mfile_detector\u001b[0m \u001b[1;32mor\u001b[0m \u001b[0mLocalFileDetector\u001b[0m\u001b[1;33m(\u001b[0m\u001b[1;33m)\u001b[0m\u001b[1;33m\u001b[0m\u001b[1;33m\u001b[0m\u001b[0m\n\u001b[0;32m    268\u001b[0m         \u001b[0mself\u001b[0m\u001b[1;33m.\u001b[0m\u001b[0mstart_client\u001b[0m\u001b[1;33m(\u001b[0m\u001b[1;33m)\u001b[0m\u001b[1;33m\u001b[0m\u001b[1;33m\u001b[0m\u001b[0m\n\u001b[1;32m--> 269\u001b[1;33m         \u001b[0mself\u001b[0m\u001b[1;33m.\u001b[0m\u001b[0mstart_session\u001b[0m\u001b[1;33m(\u001b[0m\u001b[0mcapabilities\u001b[0m\u001b[1;33m,\u001b[0m \u001b[0mbrowser_profile\u001b[0m\u001b[1;33m)\u001b[0m\u001b[1;33m\u001b[0m\u001b[1;33m\u001b[0m\u001b[0m\n\u001b[0m\u001b[0;32m    270\u001b[0m \u001b[1;33m\u001b[0m\u001b[0m\n\u001b[0;32m    271\u001b[0m     \u001b[1;32mdef\u001b[0m \u001b[0m__repr__\u001b[0m\u001b[1;33m(\u001b[0m\u001b[0mself\u001b[0m\u001b[1;33m)\u001b[0m\u001b[1;33m:\u001b[0m\u001b[1;33m\u001b[0m\u001b[1;33m\u001b[0m\u001b[0m\n",
      "\u001b[1;32m~\\AppData\\Local\\Programs\\Python\\Python310\\lib\\site-packages\\selenium\\webdriver\\remote\\webdriver.py\u001b[0m in \u001b[0;36mstart_session\u001b[1;34m(self, capabilities, browser_profile)\u001b[0m\n\u001b[0;32m    358\u001b[0m         parameters = {\"capabilities\": w3c_caps,\n\u001b[0;32m    359\u001b[0m                       \"desiredCapabilities\": capabilities}\n\u001b[1;32m--> 360\u001b[1;33m         \u001b[0mresponse\u001b[0m \u001b[1;33m=\u001b[0m \u001b[0mself\u001b[0m\u001b[1;33m.\u001b[0m\u001b[0mexecute\u001b[0m\u001b[1;33m(\u001b[0m\u001b[0mCommand\u001b[0m\u001b[1;33m.\u001b[0m\u001b[0mNEW_SESSION\u001b[0m\u001b[1;33m,\u001b[0m \u001b[0mparameters\u001b[0m\u001b[1;33m)\u001b[0m\u001b[1;33m\u001b[0m\u001b[1;33m\u001b[0m\u001b[0m\n\u001b[0m\u001b[0;32m    361\u001b[0m         \u001b[1;32mif\u001b[0m \u001b[1;34m'sessionId'\u001b[0m \u001b[1;32mnot\u001b[0m \u001b[1;32min\u001b[0m \u001b[0mresponse\u001b[0m\u001b[1;33m:\u001b[0m\u001b[1;33m\u001b[0m\u001b[1;33m\u001b[0m\u001b[0m\n\u001b[0;32m    362\u001b[0m             \u001b[0mresponse\u001b[0m \u001b[1;33m=\u001b[0m \u001b[0mresponse\u001b[0m\u001b[1;33m[\u001b[0m\u001b[1;34m'value'\u001b[0m\u001b[1;33m]\u001b[0m\u001b[1;33m\u001b[0m\u001b[1;33m\u001b[0m\u001b[0m\n",
      "\u001b[1;32m~\\AppData\\Local\\Programs\\Python\\Python310\\lib\\site-packages\\selenium\\webdriver\\remote\\webdriver.py\u001b[0m in \u001b[0;36mexecute\u001b[1;34m(self, driver_command, params)\u001b[0m\n\u001b[0;32m    423\u001b[0m         \u001b[0mresponse\u001b[0m \u001b[1;33m=\u001b[0m \u001b[0mself\u001b[0m\u001b[1;33m.\u001b[0m\u001b[0mcommand_executor\u001b[0m\u001b[1;33m.\u001b[0m\u001b[0mexecute\u001b[0m\u001b[1;33m(\u001b[0m\u001b[0mdriver_command\u001b[0m\u001b[1;33m,\u001b[0m \u001b[0mparams\u001b[0m\u001b[1;33m)\u001b[0m\u001b[1;33m\u001b[0m\u001b[1;33m\u001b[0m\u001b[0m\n\u001b[0;32m    424\u001b[0m         \u001b[1;32mif\u001b[0m \u001b[0mresponse\u001b[0m\u001b[1;33m:\u001b[0m\u001b[1;33m\u001b[0m\u001b[1;33m\u001b[0m\u001b[0m\n\u001b[1;32m--> 425\u001b[1;33m             \u001b[0mself\u001b[0m\u001b[1;33m.\u001b[0m\u001b[0merror_handler\u001b[0m\u001b[1;33m.\u001b[0m\u001b[0mcheck_response\u001b[0m\u001b[1;33m(\u001b[0m\u001b[0mresponse\u001b[0m\u001b[1;33m)\u001b[0m\u001b[1;33m\u001b[0m\u001b[1;33m\u001b[0m\u001b[0m\n\u001b[0m\u001b[0;32m    426\u001b[0m             response['value'] = self._unwrap_value(\n\u001b[0;32m    427\u001b[0m                 response.get('value', None))\n",
      "\u001b[1;32m~\\AppData\\Local\\Programs\\Python\\Python310\\lib\\site-packages\\selenium\\webdriver\\remote\\errorhandler.py\u001b[0m in \u001b[0;36mcheck_response\u001b[1;34m(self, response)\u001b[0m\n\u001b[0;32m    245\u001b[0m                 \u001b[0malert_text\u001b[0m \u001b[1;33m=\u001b[0m \u001b[0mvalue\u001b[0m\u001b[1;33m[\u001b[0m\u001b[1;34m'alert'\u001b[0m\u001b[1;33m]\u001b[0m\u001b[1;33m.\u001b[0m\u001b[0mget\u001b[0m\u001b[1;33m(\u001b[0m\u001b[1;34m'text'\u001b[0m\u001b[1;33m)\u001b[0m\u001b[1;33m\u001b[0m\u001b[1;33m\u001b[0m\u001b[0m\n\u001b[0;32m    246\u001b[0m             \u001b[1;32mraise\u001b[0m \u001b[0mexception_class\u001b[0m\u001b[1;33m(\u001b[0m\u001b[0mmessage\u001b[0m\u001b[1;33m,\u001b[0m \u001b[0mscreen\u001b[0m\u001b[1;33m,\u001b[0m \u001b[0mstacktrace\u001b[0m\u001b[1;33m,\u001b[0m \u001b[0malert_text\u001b[0m\u001b[1;33m)\u001b[0m  \u001b[1;31m# type: ignore[call-arg]  # mypy is not smart enough here\u001b[0m\u001b[1;33m\u001b[0m\u001b[1;33m\u001b[0m\u001b[0m\n\u001b[1;32m--> 247\u001b[1;33m         \u001b[1;32mraise\u001b[0m \u001b[0mexception_class\u001b[0m\u001b[1;33m(\u001b[0m\u001b[0mmessage\u001b[0m\u001b[1;33m,\u001b[0m \u001b[0mscreen\u001b[0m\u001b[1;33m,\u001b[0m \u001b[0mstacktrace\u001b[0m\u001b[1;33m)\u001b[0m\u001b[1;33m\u001b[0m\u001b[1;33m\u001b[0m\u001b[0m\n\u001b[0m\u001b[0;32m    248\u001b[0m \u001b[1;33m\u001b[0m\u001b[0m\n\u001b[0;32m    249\u001b[0m     \u001b[1;32mdef\u001b[0m \u001b[0m_value_or_default\u001b[0m\u001b[1;33m(\u001b[0m\u001b[0mself\u001b[0m\u001b[1;33m,\u001b[0m \u001b[0mobj\u001b[0m\u001b[1;33m:\u001b[0m \u001b[0mMapping\u001b[0m\u001b[1;33m[\u001b[0m\u001b[0m_KT\u001b[0m\u001b[1;33m,\u001b[0m \u001b[0m_VT\u001b[0m\u001b[1;33m]\u001b[0m\u001b[1;33m,\u001b[0m \u001b[0mkey\u001b[0m\u001b[1;33m:\u001b[0m \u001b[0m_KT\u001b[0m\u001b[1;33m,\u001b[0m \u001b[0mdefault\u001b[0m\u001b[1;33m:\u001b[0m \u001b[0m_VT\u001b[0m\u001b[1;33m)\u001b[0m \u001b[1;33m->\u001b[0m \u001b[0m_VT\u001b[0m\u001b[1;33m:\u001b[0m\u001b[1;33m\u001b[0m\u001b[1;33m\u001b[0m\u001b[0m\n",
      "\u001b[1;31mSessionNotCreatedException\u001b[0m: Message: session not created: This version of ChromeDriver only supports Chrome version 100\nCurrent browser version is 99.0.4844.84 with binary path C:\\Program Files (x86)\\Google\\Chrome\\Application\\chrome.exe\nStacktrace:\nBacktrace:\n\tOrdinal0 [0x00B37413+2389011]\n\tOrdinal0 [0x00AC9F61+1941345]\n\tOrdinal0 [0x009BC658+837208]\n\tOrdinal0 [0x009DC773+968563]\n\tOrdinal0 [0x009D837A+951162]\n\tOrdinal0 [0x009D5C51+941137]\n\tOrdinal0 [0x00A08C80+1150080]\n\tOrdinal0 [0x00A088DA+1149146]\n\tOrdinal0 [0x00A03F66+1130342]\n\tOrdinal0 [0x009DE546+976198]\n\tOrdinal0 [0x009DF456+980054]\n\tGetHandleVerifier [0x00CE9632+1727522]\n\tGetHandleVerifier [0x00D9BA4D+2457661]\n\tGetHandleVerifier [0x00BCEB81+569713]\n\tGetHandleVerifier [0x00BCDD76+566118]\n\tOrdinal0 [0x00AD0B2B+1968939]\n\tOrdinal0 [0x00AD5988+1989000]\n\tOrdinal0 [0x00AD5A75+1989237]\n\tOrdinal0 [0x00ADECB1+2026673]\n\tBaseThreadInitThunk [0x771BFA29+25]\n\tRtlGetAppContainerNamedObjectPath [0x77807A7E+286]\n\tRtlGetAppContainerNamedObjectPath [0x77807A4E+238]\n"
     ]
    }
   ],
   "source": [
    "source = [\"DEL\",\"BOM\",\"BLR\",\"AMD\",\"IXC\"]\n",
    "destination =  [\"YYZ\",\"YYC\",\"YVR\",\"YQB\",\"YHZ\"]\n",
    "# source = [\"YVR\"]\n",
    "# destination = [\"BOM\",\"AMD\"]\n",
    "\n",
    "doj=['2022-05-30']\n",
    "df1 = pd.DataFrame(columns=['Date of journey', 'Source', 'Destination', 'Departure_time',\n",
    "                            'Arrival_time', 'Duration', 'Stops', 'CAD $', 'Airlines'])\n",
    "for val in source:\n",
    "    for values in destination:\n",
    "        source_airport = val\n",
    "        print(source_airport)\n",
    "        \n",
    "        \n",
    "        destination_airport = values\n",
    "        print(destination_airport)\n",
    "        doj ='2022-05-30'\n",
    "        df = kayak(doj,source_airport,destination_airport)\n",
    "#         print(\"Departure length\",len(departure_time))\n",
    "#         print(df1.describe())\n",
    "        df.to_csv('kayak1_data.csv', mode='a',index=False,header = False)\n",
    "#         df1=pd.concat([df1,df])\n",
    "#         print(df1.shape())\n",
    "        "
   ]
  },
  {
   "cell_type": "code",
   "execution_count": 169,
   "id": "8153cc1f",
   "metadata": {},
   "outputs": [
    {
     "data": {
      "text/html": [
       "<div>\n",
       "<style scoped>\n",
       "    .dataframe tbody tr th:only-of-type {\n",
       "        vertical-align: middle;\n",
       "    }\n",
       "\n",
       "    .dataframe tbody tr th {\n",
       "        vertical-align: top;\n",
       "    }\n",
       "\n",
       "    .dataframe thead th {\n",
       "        text-align: right;\n",
       "    }\n",
       "</style>\n",
       "<table border=\"1\" class=\"dataframe\">\n",
       "  <thead>\n",
       "    <tr style=\"text-align: right;\">\n",
       "      <th></th>\n",
       "      <th>Date of journey</th>\n",
       "      <th>Source</th>\n",
       "      <th>Destination</th>\n",
       "      <th>Departure_time</th>\n",
       "      <th>Arrival_time</th>\n",
       "      <th>Duration</th>\n",
       "      <th>Stops</th>\n",
       "      <th>CAD $</th>\n",
       "      <th>Airlines</th>\n",
       "    </tr>\n",
       "  </thead>\n",
       "  <tbody>\n",
       "  </tbody>\n",
       "</table>\n",
       "</div>"
      ],
      "text/plain": [
       "Empty DataFrame\n",
       "Columns: [Date of journey, Source, Destination, Departure_time, Arrival_time, Duration, Stops, CAD $, Airlines]\n",
       "Index: []"
      ]
     },
     "execution_count": 169,
     "metadata": {},
     "output_type": "execute_result"
    }
   ],
   "source": [
    "df"
   ]
  },
  {
   "cell_type": "markdown",
   "id": "8ed1e8ec",
   "metadata": {},
   "source": [
    "# DONT RUN BELOW BLOCKS>>>>>>>>>>>>>>>>>>>>>>>>>>>"
   ]
  },
  {
   "cell_type": "code",
   "execution_count": null,
   "id": "95b425c0",
   "metadata": {},
   "outputs": [],
   "source": []
  },
  {
   "cell_type": "code",
   "execution_count": null,
   "id": "b597117c",
   "metadata": {},
   "outputs": [],
   "source": []
  },
  {
   "cell_type": "code",
   "execution_count": null,
   "id": "96a55d42",
   "metadata": {},
   "outputs": [],
   "source": []
  },
  {
   "cell_type": "code",
   "execution_count": null,
   "id": "af93cea3",
   "metadata": {},
   "outputs": [],
   "source": []
  },
  {
   "cell_type": "code",
   "execution_count": null,
   "id": "49234973",
   "metadata": {},
   "outputs": [],
   "source": []
  },
  {
   "cell_type": "code",
   "execution_count": null,
   "id": "e089f045",
   "metadata": {},
   "outputs": [],
   "source": []
  },
  {
   "cell_type": "code",
   "execution_count": null,
   "id": "ca54b6df",
   "metadata": {},
   "outputs": [],
   "source": []
  },
  {
   "cell_type": "code",
   "execution_count": null,
   "id": "f8fb8168",
   "metadata": {},
   "outputs": [],
   "source": []
  },
  {
   "cell_type": "code",
   "execution_count": null,
   "id": "d6013b00",
   "metadata": {},
   "outputs": [],
   "source": []
  },
  {
   "cell_type": "code",
   "execution_count": null,
   "id": "8bd85dc0",
   "metadata": {},
   "outputs": [],
   "source": []
  },
  {
   "cell_type": "code",
   "execution_count": null,
   "id": "1b995f13",
   "metadata": {},
   "outputs": [],
   "source": []
  },
  {
   "cell_type": "code",
   "execution_count": null,
   "id": "509093ad",
   "metadata": {},
   "outputs": [],
   "source": []
  },
  {
   "cell_type": "code",
   "execution_count": 136,
   "id": "fbbc6703",
   "metadata": {},
   "outputs": [
    {
     "name": "stderr",
     "output_type": "stream",
     "text": [
      "\n",
      "\n",
      "====== WebDriver manager ======\n",
      "Current google-chrome version is 99.0.4844\n",
      "Get LATEST chromedriver version for 99.0.4844 google-chrome\n",
      "Driver [C:\\Users\\dhair\\.wdm\\drivers\\chromedriver\\win32\\99.0.4844.51\\chromedriver.exe] found in cache\n",
      "<ipython-input-136-c6fc797b702c>:5: DeprecationWarning: executable_path has been deprecated, please pass in a Service object\n",
      "  driver = webdriver.Chrome(ChromeDriverManager().install())\n",
      "<ipython-input-136-c6fc797b702c>:13: DeprecationWarning: find_element_by_* commands are deprecated. Please use find_element() instead\n",
      "  driver.find_element_by_xpath(\"//a[@class='moreButton']\").click()\n"
     ]
    }
   ],
   "source": [
    "source_airport=\"DEL\"\n",
    "destination_airport=\"YHZ\"\n",
    "doj='2022-05-30'\n",
    "url=\"https://www.ca.kayak.com/flights/\" +str(source_airport) +\"-\" +str(destination_airport)+ \"/\"+str(doj)+ \"?sort=bestflight_a\"\n",
    "driver = webdriver.Chrome(ChromeDriverManager().install())\n",
    "driver.maximize_window()\n",
    "driver.get(url)\n",
    "time.sleep(15)\n",
    "def click_more():\n",
    "\n",
    "    for val in range(0,50):\n",
    "        try:\n",
    "            driver.find_element_by_xpath(\"//a[@class='moreButton']\").click()\n",
    "            time.sleep(4)\n",
    "            val = val +1\n",
    "\n",
    "        except:\n",
    "            pass\n",
    "click_more()"
   ]
  },
  {
   "cell_type": "code",
   "execution_count": 137,
   "id": "f1e6d830",
   "metadata": {},
   "outputs": [
    {
     "name": "stderr",
     "output_type": "stream",
     "text": [
      "<ipython-input-137-b14ccfb4e37d>:2: DeprecationWarning: find_elements_by_* commands are deprecated. Please use find_elements() instead\n",
      "  departure_time= driver.find_elements_by_xpath(\"//ol[@class='flights']//span[@class='depart-time base-time']\")\n",
      "<ipython-input-137-b14ccfb4e37d>:5: DeprecationWarning: find_elements_by_* commands are deprecated. Please use find_elements() instead\n",
      "  arrival_time= driver.find_elements_by_xpath(\"//ol[@class='flights']//span[@class='arrival-time base-time']\")\n",
      "<ipython-input-137-b14ccfb4e37d>:8: DeprecationWarning: find_elements_by_* commands are deprecated. Please use find_elements() instead\n",
      "  duration  = driver.find_elements_by_xpath(\"//ol[@class='flights']//div[@class='section duration allow-multi-modal-icons']//div[@class='top']\")\n",
      "<ipython-input-137-b14ccfb4e37d>:11: DeprecationWarning: find_elements_by_* commands are deprecated. Please use find_elements() instead\n",
      "  no_stop  = driver.find_elements_by_xpath(\"//ol[@class='flights']//div[@class='section stops']//div[@class='top']\")\n",
      "<ipython-input-137-b14ccfb4e37d>:14: DeprecationWarning: find_elements_by_* commands are deprecated. Please use find_elements() instead\n",
      "  price = driver.find_elements_by_xpath(\"//div[@class = 'booking']\")\n",
      "<ipython-input-137-b14ccfb4e37d>:17: DeprecationWarning: find_elements_by_* commands are deprecated. Please use find_elements() instead\n",
      "  airlines = driver.find_elements_by_xpath(\"//span[@class = 'codeshares-airline-names']\")\n"
     ]
    }
   ],
   "source": [
    "departure_time=[]\n",
    "departure_time= driver.find_elements_by_xpath(\"//ol[@class='flights']//span[@class='depart-time base-time']\")\n",
    "\n",
    "arrival_time=[]\n",
    "arrival_time= driver.find_elements_by_xpath(\"//ol[@class='flights']//span[@class='arrival-time base-time']\")\n",
    "\n",
    "duration =[]\n",
    "duration  = driver.find_elements_by_xpath(\"//ol[@class='flights']//div[@class='section duration allow-multi-modal-icons']//div[@class='top']\")\n",
    "\n",
    "no_stop = []\n",
    "no_stop  = driver.find_elements_by_xpath(\"//ol[@class='flights']//div[@class='section stops']//div[@class='top']\")\n",
    "\n",
    "price =[]\n",
    "price = driver.find_elements_by_xpath(\"//div[@class = 'booking']\")\n",
    "\n",
    "airlines = []\n",
    "airlines = driver.find_elements_by_xpath(\"//span[@class = 'codeshares-airline-names']\")"
   ]
  },
  {
   "cell_type": "code",
   "execution_count": 138,
   "id": "c6edf867",
   "metadata": {},
   "outputs": [
    {
     "data": {
      "text/plain": [
       "86"
      ]
     },
     "execution_count": 138,
     "metadata": {},
     "output_type": "execute_result"
    }
   ],
   "source": [
    "len(no_stop)"
   ]
  },
  {
   "cell_type": "code",
   "execution_count": 139,
   "id": "c2f85ecc",
   "metadata": {},
   "outputs": [],
   "source": [
    "stops=[]"
   ]
  },
  {
   "cell_type": "code",
   "execution_count": 140,
   "id": "fc49fea1",
   "metadata": {},
   "outputs": [
    {
     "data": {
      "text/plain": [
       "selenium.webdriver.remote.webelement.WebElement"
      ]
     },
     "execution_count": 140,
     "metadata": {},
     "output_type": "execute_result"
    }
   ],
   "source": [
    "type(no_stop[1])"
   ]
  },
  {
   "cell_type": "code",
   "execution_count": 141,
   "id": "5f8bf182",
   "metadata": {},
   "outputs": [],
   "source": [
    "for i in range(len(departure_time)):\n",
    "    no_stop[i] = no_stop[i].get_attribute('innerHTML')\n",
    "    l = re.findall(\"(direct|1|2|3|4|5)\",no_stop[i])[0]\n",
    "    stops.append(l)"
   ]
  },
  {
   "cell_type": "code",
   "execution_count": 142,
   "id": "8b65b742",
   "metadata": {},
   "outputs": [
    {
     "data": {
      "text/plain": [
       "['2',\n",
       " '3',\n",
       " '2',\n",
       " '2',\n",
       " '2',\n",
       " '2',\n",
       " '2',\n",
       " '2',\n",
       " '2',\n",
       " '2',\n",
       " '2',\n",
       " '2',\n",
       " '2',\n",
       " '2',\n",
       " '2',\n",
       " '2',\n",
       " '2',\n",
       " '2',\n",
       " '2',\n",
       " '2',\n",
       " '2',\n",
       " '2',\n",
       " '2',\n",
       " '3',\n",
       " '3',\n",
       " '3',\n",
       " '2',\n",
       " '2',\n",
       " '2',\n",
       " '1',\n",
       " '3',\n",
       " '3',\n",
       " '2',\n",
       " '2',\n",
       " '2',\n",
       " '2',\n",
       " '2',\n",
       " '2',\n",
       " '2',\n",
       " '2',\n",
       " '2',\n",
       " '3',\n",
       " '2',\n",
       " '2',\n",
       " '2',\n",
       " '2',\n",
       " '2',\n",
       " '1',\n",
       " '2',\n",
       " '2',\n",
       " '2',\n",
       " '2',\n",
       " '2',\n",
       " '2',\n",
       " '2',\n",
       " '2',\n",
       " '2',\n",
       " '2',\n",
       " '1',\n",
       " '1',\n",
       " '2',\n",
       " '2',\n",
       " '2',\n",
       " '2',\n",
       " '2',\n",
       " '2',\n",
       " '2',\n",
       " '2',\n",
       " '1',\n",
       " '2',\n",
       " '1',\n",
       " '2',\n",
       " '1',\n",
       " '2',\n",
       " '1',\n",
       " '1',\n",
       " '1',\n",
       " '2',\n",
       " '2',\n",
       " '2',\n",
       " '1',\n",
       " '1',\n",
       " '2',\n",
       " '2',\n",
       " '2',\n",
       " '2']"
      ]
     },
     "execution_count": 142,
     "metadata": {},
     "output_type": "execute_result"
    }
   ],
   "source": [
    "stops"
   ]
  },
  {
   "cell_type": "code",
   "execution_count": null,
   "id": "c934b6a1",
   "metadata": {},
   "outputs": [],
   "source": []
  }
 ],
 "metadata": {
  "kernelspec": {
   "display_name": "Python 3 (ipykernel)",
   "language": "python",
   "name": "python3"
  },
  "language_info": {
   "codemirror_mode": {
    "name": "ipython",
    "version": 3
   },
   "file_extension": ".py",
   "mimetype": "text/x-python",
   "name": "python",
   "nbconvert_exporter": "python",
   "pygments_lexer": "ipython3",
   "version": "3.10.0"
  }
 },
 "nbformat": 4,
 "nbformat_minor": 5
}
