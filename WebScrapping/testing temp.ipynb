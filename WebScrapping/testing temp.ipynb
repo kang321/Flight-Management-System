{
 "cells": [
  {
   "cell_type": "code",
   "execution_count": 6,
   "id": "8deb2cd3",
   "metadata": {},
   "outputs": [],
   "source": [
    "import requests\n",
    "import re\n",
    "temp = requests.get('http://127.0.0.1:5000/site_open' , json = \n",
    " {\n",
    "       \n",
    "        \"source\" : \"YYZerytry\",\n",
    "        \"destination\" : \"DEL\",\n",
    "        \"date\" : \"03/07/2022\",\n",
    "        \"person\": \"1\"\n",
    " })\n"
   ]
  },
  {
   "cell_type": "code",
   "execution_count": 9,
   "id": "0e43bc71",
   "metadata": {},
   "outputs": [
    {
     "data": {
      "text/plain": [
       "500"
      ]
     },
     "execution_count": 9,
     "metadata": {},
     "output_type": "execute_result"
    }
   ],
   "source": [
    "temp.status_code"
   ]
  },
  {
   "cell_type": "code",
   "execution_count": null,
   "id": "1ca4aaff",
   "metadata": {},
   "outputs": [],
   "source": [
    "\n",
    "# coding: utf-8\n",
    "\n",
    "# In[11]:\n",
    "import requests\n",
    "from requests_html import HTMLSession\n",
    "import unittest\n",
    "from unittest.mock import patch\n",
    "import nest_asyncio\n",
    "source = \"YYZ\"\n",
    "destination = \"DEL\"\n",
    "date = \"03/07/2022\"\n",
    "person=\"1\"\n",
    "class Travel:\n",
    "    def __init__( self , source, destination, date, person):\n",
    "        self.source = source\n",
    "        self.destination = destination\n",
    "        self.date = date\n",
    "        self.person = person\n",
    "        \n",
    "    def url_validity(self):\n",
    "        url = \"https://www.aircanada.com/ca/en/aco/home/app.html#/search?org1=\"+source+\"&dest1=\"+destination+\"&orgType1=A&destType1=A&departure1=\"+date+\"&marketCode=INT&numberOfAdults=\"+person+\"&numberOfYouth=0&numberOfChildren=0&numberOfInfants=0&numberOfInfantsOnSeat=0&tripType=O&isFlexible=false\"\n",
    "        nest_asyncio.apply()\n",
    "        session = HTMLSession()\n",
    "        try:\n",
    "             r = session.get(url)\n",
    "        except:\n",
    "            return 'Bad Response!'\n",
    "        #print(r)\n",
    "\n",
    "        if r.ok:\n",
    "            return 'positive response'\n",
    "        else:\n",
    "            return 'Bad Response!'\n",
    "\n",
    "\n",
    "class TestAirCanada(unittest.TestCase):\n",
    "    \n",
    "    def setUp(self):\n",
    "        print('setUp')\n",
    "        self.travel1 = Travel(\"YYZ\", \"DEL\", \"03/07/2022\", \"1\")\n",
    "        \n",
    "\n",
    "    def tearDown(self):\n",
    "        print('tearDown\\n')\n",
    "            \n",
    "    def test_url_validity(self):\n",
    "        print('test_url_validity')\n",
    "        print(self.travel1.url_validity())\n",
    "        self.assertEqual(self.travel1.url_validity(), 'positive response')\n",
    "\n",
    "        \n",
    "    \n",
    "if __name__ == '__main__':\n",
    "    unittest.main() \n",
    "\n",
    "        \n",
    "        \n",
    "       \n",
    "\n",
    "\n",
    "\n",
    "\n",
    "\n",
    "\n",
    "\n",
    "\n",
    "\n",
    "\n",
    "\n",
    "\n"
   ]
  }
 ],
 "metadata": {
  "kernelspec": {
   "display_name": "Python 3 (ipykernel)",
   "language": "python",
   "name": "python3"
  },
  "language_info": {
   "codemirror_mode": {
    "name": "ipython",
    "version": 3
   },
   "file_extension": ".py",
   "mimetype": "text/x-python",
   "name": "python",
   "nbconvert_exporter": "python",
   "pygments_lexer": "ipython3",
   "version": "3.10.0"
  }
 },
 "nbformat": 4,
 "nbformat_minor": 5
}
