{
 "cells": [
  {
   "cell_type": "code",
   "execution_count": 2,
   "id": "1a9d55de",
   "metadata": {},
   "outputs": [],
   "source": [
    "from bs4 import BeautifulSoup\n",
    "from requests_html import HTMLSession"
   ]
  },
  {
   "cell_type": "code",
   "execution_count": 4,
   "id": "e2173f95",
   "metadata": {},
   "outputs": [],
   "source": [
    "session = HTMLSession()"
   ]
  },
  {
   "cell_type": "markdown",
   "id": "36f27782",
   "metadata": {},
   "source": [
    "## Getting Form Details"
   ]
  },
  {
   "cell_type": "code",
   "execution_count": 5,
   "id": "4e30a9a0",
   "metadata": {},
   "outputs": [],
   "source": [
    "def get_all_forms(url):\n",
    "    res = session.get(url)\n",
    "    soup = BeautifulSoup(res.html.html, \"html.parser\")\n",
    "    return soup.find_all(\"form\")"
   ]
  },
  {
   "cell_type": "code",
   "execution_count": 12,
   "id": "84adf91b",
   "metadata": {},
   "outputs": [],
   "source": [
    "def get_form_details(form):\n",
    "    details = {}\n",
    "    action = form.attrs.get(\"action\").lower()\n",
    "    \n",
    "    method = form.attrs.get(\"method\", \"get\").lower()\n",
    "    inputs = []\n",
    "    for input_tag in form.find_all(\"input\"):\n",
    "        input_type = input_tag.attrs.get(\"type\", \"text\")\n",
    "        input_name = input_tag.attrs.get(\"name\")\n",
    "        input_value =input_tag.attrs.get(\"value\", \"\")\n",
    "        inputs.append({\"type\": input_type, \"name\": input_name, \"value\": input_value})\n",
    "\n",
    "    for select in form.find_all(\"select\"):\n",
    "        # get the name attribute\n",
    "        select_name = select.attrs.get(\"name\")\n",
    "        # set the type as select\n",
    "        select_type = \"select\"\n",
    "        select_options = []\n",
    "        # the default select value\n",
    "        select_default_value = \"\"\n",
    "        # iterate over options and get the value of each\n",
    "        for select_option in select.find_all(\"option\"):\n",
    "            # get the option value used to submit the form\n",
    "            option_value = select_option.attrs.get(\"value\")\n",
    "            if option_value:\n",
    "                select_options.append(option_value)\n",
    "                if select_option.attrs.get(\"selected\"):\n",
    "                    # if 'selected' attribute is set, set this option as default    \n",
    "                    select_default_value = option_value\n",
    "        if not select_default_value and select_options:\n",
    "            # if the default is not set, and there are options, take the first option as default\n",
    "            select_default_value = select_options[0]\n",
    "        # add the select to the inputs list\n",
    "        inputs.append({\"type\": select_type, \"name\": select_name, \"values\": select_options, \"value\": select_default_value})\n",
    "\n",
    "        for textarea in form.find_all(\"textarea\"):\n",
    "            # get the name attribute\n",
    "            textarea_name = textarea.attrs.get(\"name\")\n",
    "            # set the type as textarea\n",
    "            textarea_type = \"textarea\"\n",
    "            # get the textarea value\n",
    "            textarea_value = textarea.attrs.get(\"value\", \"\")\n",
    "            # add the textarea to the inputs list\n",
    "            inputs.append({\"type\": textarea_type, \"name\": textarea_name, \"value\": textarea_value})\n",
    "            \n",
    "            \n",
    "        details[\"action\"] = action\n",
    "        details[\"method\"] = method\n",
    "        details[\"inputs\"] = inputs\n",
    "        return details"
   ]
  },
  {
   "cell_type": "code",
   "execution_count": 13,
   "id": "eadc62e8",
   "metadata": {},
   "outputs": [
    {
     "name": "stdout",
     "output_type": "stream",
     "text": [
      "================================================== form #1 ==================================================\n",
      "{'action': '//www.wikipedia.org/search-redirect.php', 'method': 'get', 'inputs': [{'type': 'hidden', 'name': 'family', 'value': 'Wikipedia'}, {'type': 'hidden', 'name': 'language', 'value': 'en'}, {'type': 'search', 'name': 'search', 'value': ''}, {'type': 'hidden', 'name': 'go', 'value': 'Go'}, {'type': 'select', 'name': 'language', 'values': ['af', 'pl', 'sk', 'ar', 'ast', 'az', 'bg', 'nan', 'bn', 'be', 'ca', 'cs', 'cy', 'da', 'de', 'et', 'el', 'en', 'es', 'eo', 'eu', 'fa', 'fr', 'gl', 'ko', 'hy', 'hi', 'hr', 'id', 'it', 'he', 'ka', 'la', 'lv', 'lt', 'hu', 'mk', 'arz', 'ms', 'min', 'nl', 'ja', 'no', 'nn', 'ce', 'uz', 'pt', 'kk', 'ro', 'ru', 'simple', 'ceb', 'sl', 'sr', 'sh', 'fi', 'sv', 'ta', 'tt', 'th', 'tg', 'azb', 'tr', 'uk', 'ur', 'vi', 'vo', 'war', 'zh-yue', 'zh', 'my'], 'value': 'en'}]}\n"
     ]
    }
   ],
   "source": [
    "if __name__ == \"__main__\":\n",
    "    import sys\n",
    "    # get URL from the command line\n",
    "    url = 'https://wikipedia.org'\n",
    "    # get all form tags\n",
    "    forms = get_all_forms(url)\n",
    "    # iteratte over forms\n",
    "    for i, form in enumerate(forms, start=1):\n",
    "        form_details = get_form_details(form)\n",
    "        print(\"=\"*50, f\"form #{i}\", \"=\"*50)\n",
    "        print(form_details)"
   ]
  },
  {
   "cell_type": "code",
   "execution_count": null,
   "id": "d58a45f7",
   "metadata": {},
   "outputs": [],
   "source": []
  }
 ],
 "metadata": {
  "kernelspec": {
   "display_name": "Python 3 (ipykernel)",
   "language": "python",
   "name": "python3"
  },
  "language_info": {
   "codemirror_mode": {
    "name": "ipython",
    "version": 3
   },
   "file_extension": ".py",
   "mimetype": "text/x-python",
   "name": "python",
   "nbconvert_exporter": "python",
   "pygments_lexer": "ipython3",
   "version": "3.10.0"
  }
 },
 "nbformat": 4,
 "nbformat_minor": 5
}
